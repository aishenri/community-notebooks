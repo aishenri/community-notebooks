{
 "cells": [
  {
   "cell_type": "code",
   "execution_count": null,
   "metadata": {
    "collapsed": false
   },
   "outputs": [],
   "source": [
    "from poppy.creatures import PoppyErgoJr\n",
    "\n",
    "poppy = PoppyErgoJr() \n"
   ]
  },
  {
   "cell_type": "markdown",
   "metadata": {
    "collapsed": true
   },
   "source": [
    "### Initialisation \n",
    "**Ecrire un jeu d'instructions permettant **\n",
    "\n",
    "1. d'initialiser la vitesse de chacun des moteurs à 30°/s.\n",
    "2. de mettre les moteurs *poppy.m1* à *poppy.m6* dans les positions données par la liste suivante *pos_init = [0, -90, 30, 0, 60, 0]*. \n",
    "\n",
    "**Remarque : **\n",
    "\n",
    "Lorsque la vitesse du moteur *poppy.m1 == 0* ou lorsque le moteur est dans l'état *compliant == True*, la commande *poppy.m1.goal_position = 50* n'a pas d'effet.\n",
    "    "
   ]
  },
  {
   "cell_type": "code",
   "execution_count": null,
   "metadata": {
    "collapsed": true
   },
   "outputs": [],
   "source": []
  },
  {
   "cell_type": "markdown",
   "metadata": {},
   "source": [
    "### Faire de ce jeu d'instructions une procédure\n",
    "On veut faire de ces instructions d'initialisation une procédure dont les arguments sont le robot nommé *bot* et la liste donnant les positions initiales des moteurs nommé *pos_initiale*. \n",
    "Le prototype de cette procédure est : *f_init(bot, pos_initiale)*. A la fin de l'exécution de  la procédure, on affichera un message pour identifier ce qui a été fait. \n",
    "\n",
    "**Remarque : ** En Python, on déclare une procédure à l'aide du mot réservé *def* suivi du prototype de la procédure. \n",
    "Cette ligne ce termine par *:*.\n",
    "\n",
    "Ensuite, c'est l'indentation qui délimite le contenu de cette procédure.\n",
    "\n",
    "**Remarque : ** Il en est de même pour une fonction. Celle-ci comportera le mot réservé *return* qui permettra à l'issue du traitement de retourner le contenu souhaité."
   ]
  },
  {
   "cell_type": "code",
   "execution_count": null,
   "metadata": {
    "collapsed": false
   },
   "outputs": [],
   "source": [
    "def f_init(bot, pos_initiale): \n",
    "    #debut du corps de la procédure"
   ]
  },
  {
   "cell_type": "markdown",
   "metadata": {},
   "source": [
    "### Tester votre procédure \n",
    "Faire fonctionner votre procédure avec poppy et *pos_init = [0, -90, 30, 0, 60, 0]* puis avec *[30, -60, 30, -30, 60, 20]*."
   ]
  },
  {
   "cell_type": "code",
   "execution_count": null,
   "metadata": {
    "collapsed": false
   },
   "outputs": [],
   "source": [
    "f_init(poppy, pos_init)"
   ]
  },
  {
   "cell_type": "markdown",
   "metadata": {},
   "source": [
    "**Tester :** \n",
    "Mettre la vitesse du moteur m1 du robot à 50°/s puis exécuter la procédure *f_init* avec la position initiale de votre choix. Pour finir afficher la vitesse du moteur m1 du robot.\n",
    "\n",
    "**QUESTION :**\n",
    "Que remarquez-vous ? Expliquer.\n"
   ]
  },
  {
   "cell_type": "markdown",
   "metadata": {},
   "source": [
    "### Une nouvelle procédure *f_init2*\n",
    "Définir une nouvelle procédure *f_init* dont le prototype est *f_init2(bot, pos_initiale, vitesse)* et qui permet cette fois d'initialiser la vitesse des moteurs à la valeur vitesse donnée en argument. "
   ]
  },
  {
   "cell_type": "code",
   "execution_count": null,
   "metadata": {
    "collapsed": true
   },
   "outputs": [],
   "source": [
    "def f_init2(bot, pos_initiale, vitesse): \n",
    "    # début du corps de la procédure"
   ]
  },
  {
   "cell_type": "markdown",
   "metadata": {},
   "source": [
    "**QUESTION : **\n",
    "Expliquer pourquoi deux procédures ne \"peuvent\" pas avoir le même nom."
   ]
  },
  {
   "cell_type": "markdown",
   "metadata": {},
   "source": [
    "Expliquer le rôle de la procédure définie ci-dessous."
   ]
  },
  {
   "cell_type": "code",
   "execution_count": null,
   "metadata": {
    "collapsed": false
   },
   "outputs": [],
   "source": [
    "def f_bouger_a_la_main(bot): \n",
    "    for m in bot.motors:\n",
    "        m.compliant = True\n",
    "        "
   ]
  },
  {
   "cell_type": "markdown",
   "metadata": {},
   "source": [
    "Vérifier votre réponse en la testant."
   ]
  },
  {
   "cell_type": "code",
   "execution_count": null,
   "metadata": {
    "collapsed": true
   },
   "outputs": [],
   "source": [
    "f_bouger_a_la_main(poppy)"
   ]
  },
  {
   "cell_type": "markdown",
   "metadata": {},
   "source": [
    "Expliquer ce que doit faire la fonction *f_pos_cible*."
   ]
  },
  {
   "cell_type": "code",
   "execution_count": null,
   "metadata": {
    "collapsed": true
   },
   "outputs": [],
   "source": [
    "def f_pos_cible(bot): \n",
    "    f_pos_cible = []\n",
    "    for m in bot.motors:\n",
    "        f_pos_cible.append(m.present_position) \n",
    "    return f_pos_cible    "
   ]
  },
  {
   "cell_type": "markdown",
   "metadata": {},
   "source": [
    "## Défi \n",
    "On veut pouvoir créer un mouvement d'une position de départ à une position d'arrivée.\n",
    "\n",
    "Pour cela :\n",
    "\n",
    "1. On va initialiser les positions de départ et d'arrivée\n",
    "2. Faire bouger les moteurs un par un de la position de départ à la position d'arrivée. \n",
    "3. Pendant toute la durée du mouvement, la led du moteur doit être rouge. Une fois le mouvement fini, elle doit passer au vert.\n",
    "\n"
   ]
  },
  {
   "cell_type": "code",
   "execution_count": null,
   "metadata": {
    "collapsed": false
   },
   "outputs": [],
   "source": [
    "# initialiser la position de départ et la sauver dans la liste pos_dep"
   ]
  },
  {
   "cell_type": "code",
   "execution_count": null,
   "metadata": {
    "collapsed": false
   },
   "outputs": [],
   "source": [
    "# initialiser la position d'arrivée et la sauver dans la liste pos_arr"
   ]
  },
  {
   "cell_type": "code",
   "execution_count": null,
   "metadata": {
    "collapsed": true
   },
   "outputs": [],
   "source": [
    "import time\n",
    "def f_mouv(bot, pos_D, pos_A): \n",
    "    # corps de la procédure\n",
    "    # Pourquoi la commande suivante va-t-elle permettre de temporiser \n",
    "    # suffisement longtemps pour terminer le mouvement ?\n",
    "    # time.sleep(2 * abs(pos_A[i] - pos_D[i]) / m.moving_speed)\n",
    "        "
   ]
  },
  {
   "cell_type": "markdown",
   "metadata": {
    "collapsed": false
   },
   "source": [
    "Tester votre procédure avec l'instruction suivante : "
   ]
  },
  {
   "cell_type": "code",
   "execution_count": null,
   "metadata": {
    "collapsed": false
   },
   "outputs": [],
   "source": [
    "f_mouv(poppy, pos_dep,pos_arr)"
   ]
  },
  {
   "cell_type": "markdown",
   "metadata": {},
   "source": [
    "Auteur : Georges Saliba, Lycée Victor Louis, Talence, sous [licence CC BY SA](https://creativecommons.org/licenses/by-nc-sa/3.0/fr/) "
   ]
  }
 ],
 "metadata": {
  "anaconda-cloud": {},
  "kernelspec": {
   "display_name": "Python [default]",
   "language": "python",
   "name": "python2"
  },
  "language_info": {
   "codemirror_mode": {
    "name": "ipython",
    "version": 2
   },
   "file_extension": ".py",
   "mimetype": "text/x-python",
   "name": "python",
   "nbconvert_exporter": "python",
   "pygments_lexer": "ipython2",
   "version": "2.7.13"
  }
 },
 "nbformat": 4,
 "nbformat_minor": 0
}
