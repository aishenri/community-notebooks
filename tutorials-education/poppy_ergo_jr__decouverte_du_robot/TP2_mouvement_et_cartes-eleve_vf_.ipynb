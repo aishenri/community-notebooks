{
 "cells": [
  {
   "cell_type": "code",
   "execution_count": null,
   "metadata": {
    "collapsed": false
   },
   "outputs": [],
   "source": [
    "from poppy.creatures import PoppyErgoJr\n",
    "\n",
    "poppy = PoppyErgoJr()\n"
   ]
  },
  {
   "cell_type": "markdown",
   "metadata": {},
   "source": [
    "### Encore une instruction pour bouger\n",
    "**QUESTIONS **\n",
    "\n",
    "1. Lorsque la liste *pos* contient 6 angles en degrés, que permet de faire le jeu d'instructions suivant ? \n",
    "2. Quelle différence avec *m.goal_position = 30* par exemple ? "
   ]
  },
  {
   "cell_type": "code",
   "execution_count": null,
   "metadata": {
    "collapsed": false
   },
   "outputs": [],
   "source": [
    "i = 0\n",
    "for m in poppy.motors:\n",
    "    m.compliant = False\n",
    "    m.goto_position(pos[i], 0.5, wait = True)\n",
    "    i = i + 1\n"
   ]
  },
  {
   "cell_type": "markdown",
   "metadata": {},
   "source": [
    "### Lecture de marqueurs sous forme de QR-codes \n",
    "Exécuter ces instructions avec les cartes prévues à cet effet. \n",
    "Que constatez-vous ?"
   ]
  },
  {
   "cell_type": "code",
   "execution_count": null,
   "metadata": {
    "collapsed": false
   },
   "outputs": [],
   "source": [
    "# importation des outils nécessaires \n",
    "import cv2\n",
    "%matplotlib inline\n",
    "import matplotlib.pyplot as plt\n",
    "from hampy import detect_markers\n",
    "\n",
    "# affichage de l'image capturée\n",
    "img = poppy.camera.frame\n",
    "plt.imshow(img)\n",
    "#récupère dans une liste les marqueurs trouvés dans l'image\n",
    "markers = detect_markers(img)\n",
    "\n",
    "valeur = 0  \n",
    "for m in markers:\n",
    "    print('Found marker {} at {}'.format(m.id, m.center))\n",
    "    m.draw_contour(img)\n",
    "    valeur = m.id\n",
    "    print(valeur)"
   ]
  },
  {
   "cell_type": "markdown",
   "metadata": {},
   "source": [
    "### Défi mouvement à l'aide de cartes \n",
    "1. Enigme : Les cartes ont été créées pour être lues. Pouvez-vous identifier comment à partir des valeurs, on peut reconstruire les noms des variables ? \n",
    "2. Mettre toutes les leds des moteurs roses.\n",
    "3. Détecter l'un des 4 marqueurs et lui faire effectuer l'action correspondant à son nom : \n",
    "    * Next doit permettre de passer au moteur suivant de la liste des moteurs \n",
    "    * Prev de revenir au précédent\n",
    "    * Righ de faire augmenter la position courante de 5 degrés \n",
    "    * Left de faire diminuer la position courante de 5 degrés\n",
    "    \n",
    "4. Pour identifier le moteur sélectionné, sa led sera rouge durant la selection.\n",
    "5. Durant un mouvement, la led du moteur qui bouge sera verte.\n",
    "6. On commence par le moteur m1 et lorsque l'on a atteint le moteur m6, si la carte next est lue, le code se termine. \n",
    "\n",
    "### remarque \n",
    "En Python une boucle tant que s'écrit \n",
    "   "
   ]
  },
  {
   "cell_type": "code",
   "execution_count": null,
   "metadata": {
    "collapsed": true
   },
   "outputs": [],
   "source": [
    "while (condition): \n",
    "    #corps de la boucle"
   ]
  },
  {
   "cell_type": "code",
   "execution_count": null,
   "metadata": {
    "collapsed": false
   },
   "outputs": [],
   "source": [
    "import time\n",
    "# Aide : la commande time.sleep(2.0) permet de temporiser 2 secondes \n",
    "RIGH = 82737172\n",
    "\n",
    "LEFT = 76697084\n",
    "\n",
    "NEXT = 78698884\n",
    "\n",
    "PREV = 80826986\n",
    "\n",
    "# l'instruction ci-dessous permet de créer une liste \n",
    "liste_moteur = [m for m in poppy.motors] \n",
    "# toutefois, poppy.motors est déjà une liste. Pour vous en assurer, \n",
    "# type(poppy.motors) vous retourne le type du conteneur poppy.motors\n",
    "\n",
    "    \n",
    "\n"
   ]
  },
  {
   "cell_type": "markdown",
   "metadata": {
    "collapsed": true
   },
   "source": [
    "Auteur : Georges Saliba, Lycée Victor Louis, Talence, sous [licence CC BY SA](https://creativecommons.org/licenses/by-nc-sa/3.0/fr/) "
   ]
  }
 ],
 "metadata": {
  "anaconda-cloud": {},
  "kernelspec": {
   "display_name": "Python [default]",
   "language": "python",
   "name": "python2"
  },
  "language_info": {
   "codemirror_mode": {
    "name": "ipython",
    "version": 2
   },
   "file_extension": ".py",
   "mimetype": "text/x-python",
   "name": "python",
   "nbconvert_exporter": "python",
   "pygments_lexer": "ipython2",
   "version": "2.7.13"
  }
 },
 "nbformat": 4,
 "nbformat_minor": 0
}
